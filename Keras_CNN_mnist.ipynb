{
 "cells": [
  {
   "cell_type": "markdown",
   "metadata": {
    "collapsed": true
   },
   "source": [
    "Convolutional neural network\n",
    "---\n",
    "We are going to build a neural network connecting multiple neurons in a structure known as Convolutional Neural Network (CNN).\n",
    "\n",
    "A CNN is a feed-forward neural network tipically composed of Convolutional, MaxPooling and Dense layers.\n",
    "Relu, Dropout, and batchnorm layers are usually present to improve the final accuracy of the model.\n",
    "\n",
    "In this example, we will use keras with Tensorflow as backend.\n"
   ]
  },
  {
   "cell_type": "code",
   "execution_count": 42,
   "metadata": {
    "collapsed": false
   },
   "outputs": [],
   "source": [
    "# Import the required packages\n",
    "import numpy as np\n",
    "np.random.seed(129238)  # Reproducibilty\n",
    "import matplotlib as mpl\n",
    "from matplotlib import pyplot as plt\n",
    "\n",
    "%matplotlib inline\n",
    "\n",
    "#Import keras mnist dataset, backend model, layers and optimizer\n",
    "import keras\n",
    "from keras.datasets import mnist\n",
    "from keras import backend as TF\n",
    "from keras.models import Sequential, save_model, load_model\n",
    "from keras.layers.core import Dense, Dropout, Activation, Flatten\n",
    "from keras.layers.convolutional import Conv2D\n",
    "from keras.layers.pooling import MaxPooling2D\n",
    "from keras.optimizers import SGD \n",
    "from keras.layers.normalization import BatchNormalization\n",
    "from keras.callbacks import TensorBoard,ModelCheckpoint\n"
   ]
  },
  {
   "cell_type": "markdown",
   "metadata": {},
   "source": [
    "Prepare Input data\n",
    "----\n"
   ]
  },
  {
   "cell_type": "code",
   "execution_count": 23,
   "metadata": {
    "collapsed": false
   },
   "outputs": [
    {
     "data": {
      "image/png": "[encoded data removed]",
      "text/plain": [
       "<matplotlib.figure.Figure at 0x17847f09160>"
      ]
     },
     "metadata": {},
     "output_type": "display_data"
    }
   ],
   "source": [
    "#Download the data, shuffled and split between train and test sets\n",
    "(x_train, y_train), (x_test, y_test) = mnist.load_data()\n",
    "x_test_orig = x_test\n",
    "#In case we want to display images from the dataset\n",
    "fig = plt.figure()\n",
    "ax = fig.add_subplot(1,1,1)\n",
    "imgplot = ax.imshow(x_train[2], cmap=mpl.cm.Greys)\n",
    "imgplot.set_interpolation('nearest')\n",
    "ax.xaxis.set_ticks_position('top')\n",
    "ax.yaxis.set_ticks_position('left')\n",
    "plt.show()"
   ]
  },
  {
   "cell_type": "markdown",
   "metadata": {},
   "source": [
    "Define Model parameters\n",
    "----\n"
   ]
  },
  {
   "cell_type": "code",
   "execution_count": 27,
   "metadata": {
    "collapsed": false
   },
   "outputs": [],
   "source": [
    "#Neural Network parameters\n",
    "batch_size = 64\n",
    "num_classes = 10\n",
    "num_epochs = 10\n",
    "# number of convolutional filters to use\n",
    "num_filters = 32  \n",
    "# size of pooling area for max pooling\n",
    "num_pool = 2\n",
    "# convolution kernel size\n",
    "num_conv = 3\n",
    "\n",
    "#Define Tensorboard callback in keras to generate a visualization of the model output\n",
    "tensorboard = keras.callbacks.TensorBoard(\n",
    "    log_dir='logs/', \n",
    "    histogram_freq=1\n",
    ")\n",
    "\n",
    "#Define the optimizer (keras SGD)\n",
    "optimizer = SGD(lr=0.1, decay=1e-6, momentum=0.9, nesterov=True)\n"
   ]
  },
  {
   "cell_type": "markdown",
   "metadata": {},
   "source": [
    "Reshape input data\n",
    "---"
   ]
  },
  {
   "cell_type": "code",
   "execution_count": 28,
   "metadata": {
    "collapsed": false
   },
   "outputs": [
    {
     "name": "stdout",
     "output_type": "stream",
     "text": [
      "60000 train samples\n",
      "10000 test samples\n"
     ]
    }
   ],
   "source": [
    "img_rows, img_cols = 28, 28\n",
    "\n",
    "#When dealing with images & convolutions in keras, we need to properly handle image_data_format \n",
    "if TF.image_data_format() == 'channels_first':\n",
    "    shape_ord = (1, img_rows, img_cols)\n",
    "else:  # channel_last\n",
    "    shape_ord = (img_rows, img_cols, 1)\n",
    "\n",
    "# Reshape input data\n",
    "x_train = x_train.reshape((x_train.shape[0],) + shape_ord)\n",
    "x_test = x_test.reshape((x_test.shape[0],) + shape_ord)\n",
    "x_train = x_train.astype('float32')\n",
    "x_test = x_test.astype('float32')\n",
    "x_train /= 255\n",
    "x_test /= 255\n",
    "print(x_train.shape[0], 'train samples')\n",
    "print(x_test.shape[0], 'test samples')\n",
    "# Test data\n",
    "y_train = keras.utils.to_categorical(y_train, num_classes)\n",
    "y_test = keras.utils.to_categorical(y_test, num_classes)\n"
   ]
  },
  {
   "cell_type": "markdown",
   "metadata": {
    "collapsed": true
   },
   "source": [
    "Create the model\n",
    "---\n"
   ]
  },
  {
   "cell_type": "code",
   "execution_count": 35,
   "metadata": {
    "collapsed": false
   },
   "outputs": [],
   "source": [
    "#ConvNet model definition\n",
    "model = Sequential()\n",
    "\n",
    "model.add(Conv2D(num_filters, (num_conv, num_conv),padding='valid', input_shape=shape_ord))\n",
    "model.add(Activation('relu'))\n",
    "model.add(Conv2D(num_filters, (num_conv, num_conv)))\n",
    "model.add(Activation('relu'))\n",
    "model.add(MaxPooling2D(pool_size=(num_pool, num_pool)))\n",
    "model.add(Dropout(0.25))\n",
    "    \n",
    "model.add(Flatten())\n",
    "model.add(Dense(128))\n",
    "model.add(Activation('relu'))\n",
    "model.add(Dropout(0.5))\n",
    "\n",
    "BatchNormalization(axis=-1, momentum=0.99, epsilon=0.001, center=True, scale=True, \n",
    "                   beta_initializer='zeros', gamma_initializer='ones', moving_mean_initializer='zeros',\n",
    "                   moving_variance_initializer='ones', beta_regularizer=None, gamma_regularizer=None,\n",
    "                   beta_constraint=None, gamma_constraint=None)\n",
    "model.add(Dense(num_classes))\n",
    "model.add(Activation('softmax'))\n",
    "\n",
    "model.compile(loss='categorical_crossentropy',\n",
    "              optimizer=optimizer,\n",
    "              metrics=['accuracy'])"
   ]
  },
  {
   "cell_type": "markdown",
   "metadata": {},
   "source": [
    "Layer shape and weight insights\n",
    "---\n",
    "\n",
    "The input shape of the first convolutional layer must be specified by the user. The rest of the layer shapes are automatically defined internally by keras. \n",
    "Note that Dense layers need the output shape, as it defines the activation function. \n",
    "\n",
    "In a simillar way, Keras lets you inspect weights by returning a list with two elements, the weight tensor and the bias vector. As MaxPooling layers don't have learnable parameters, there are no weights to be extracted."
   ]
  },
  {
   "cell_type": "code",
   "execution_count": 135,
   "metadata": {
    "collapsed": false
   },
   "outputs": [
    {
     "name": "stdout",
     "output_type": "stream",
     "text": [
      "Layer Shapes:\n",
      "Layer 0 \t (None, 28, 28, 1) \t (None, 26, 26, 32)\n",
      "Layer 1 \t (None, 26, 26, 32) \t (None, 26, 26, 32)\n",
      "Layer 2 \t (None, 26, 26, 32) \t (None, 24, 24, 32)\n",
      "Layer 3 \t (None, 24, 24, 32) \t (None, 24, 24, 32)\n",
      "Layer 4 \t (None, 24, 24, 32) \t (None, 12, 12, 32)\n",
      "Layer 5 \t (None, 12, 12, 32) \t (None, 12, 12, 32)\n",
      "Layer 6 \t (None, 12, 12, 32) \t (None, 4608)\n",
      "Layer 7 \t (None, 4608) \t (None, 128)\n",
      "Layer 8 \t (None, 128) \t (None, 128)\n",
      "Layer 9 \t (None, 128) \t (None, 128)\n",
      "Layer 10 \t (None, 128) \t (None, 10)\n",
      "Layer 11 \t (None, 10) \t (None, 10)\n",
      "\n",
      "Layer Weights:\n",
      "Layer 0 \t (3, 3, 1, 32)      \t (32,)\n",
      "Layer 2 \t (3, 3, 32, 32)      \t (32,)\n",
      "Layer 7 \t (4608, 128)      \t (128,)\n",
      "Layer 10 \t (128, 10)      \t (10,)\n"
     ]
    }
   ],
   "source": [
    "print(\"Layer Shapes:\")\n",
    "for i, layer in enumerate(model.layers):\n",
    "     print (\"Layer\", i, \"\\t\", layer.input_shape, \"\\t\", layer.output_shape)\n",
    "    \n",
    "print(\"\\nLayer Weights:\")\n",
    "for i, layer in enumerate(model.layers):\n",
    "    if len(layer.get_weights()) > 0:\n",
    "         print(\"Layer\", i, \"\\t\", layer.get_weights()[0].shape, \"     \\t\", layer.get_weights()[1].shape)"
   ]
  },
  {
   "cell_type": "code",
   "execution_count": 34,
   "metadata": {
    "collapsed": false
   },
   "outputs": [
    {
     "name": "stdout",
     "output_type": "stream",
     "text": [
      "_________________________________________________________________\n",
      "Layer (type)                 Output Shape              Param #   \n",
      "=================================================================\n",
      "conv2d_3 (Conv2D)            (None, 26, 26, 32)        320       \n",
      "_________________________________________________________________\n",
      "activation_5 (Activation)    (None, 26, 26, 32)        0         \n",
      "_________________________________________________________________\n",
      "conv2d_4 (Conv2D)            (None, 24, 24, 32)        9248      \n",
      "_________________________________________________________________\n",
      "activation_6 (Activation)    (None, 24, 24, 32)        0         \n",
      "_________________________________________________________________\n",
      "max_pooling2d_2 (MaxPooling2 (None, 12, 12, 32)        0         \n",
      "_________________________________________________________________\n",
      "dropout_3 (Dropout)          (None, 12, 12, 32)        0         \n",
      "_________________________________________________________________\n",
      "flatten_2 (Flatten)          (None, 4608)              0         \n",
      "_________________________________________________________________\n",
      "dense_3 (Dense)              (None, 128)               589952    \n",
      "_________________________________________________________________\n",
      "activation_7 (Activation)    (None, 128)               0         \n",
      "_________________________________________________________________\n",
      "dropout_4 (Dropout)          (None, 128)               0         \n",
      "_________________________________________________________________\n",
      "dense_4 (Dense)              (None, 10)                1290      \n",
      "_________________________________________________________________\n",
      "activation_8 (Activation)    (None, 10)                0         \n",
      "=================================================================\n",
      "Total params: 600,810\n",
      "Trainable params: 600,810\n",
      "Non-trainable params: 0\n",
      "_________________________________________________________________\n"
     ]
    }
   ],
   "source": [
    "model.summary()"
   ]
  },
  {
   "cell_type": "markdown",
   "metadata": {},
   "source": [
    "Train Model\n",
    "---\n",
    "Including saving model during training phase\n",
    "Plot loss and accuracy per epoch"
   ]
  },
  {
   "cell_type": "code",
   "execution_count": 48,
   "metadata": {
    "collapsed": false
   },
   "outputs": [
    {
     "name": "stdout",
     "output_type": "stream",
     "text": [
      "Train on 60000 samples, validate on 10000 samples\n",
      "Epoch 1/10\n",
      "60000/60000 [==============================] - 3s - loss: 0.0330 - acc: 0.9895 - val_loss: 0.0311 - val_acc: 0.9905\n",
      "Epoch 2/10\n",
      "60000/60000 [==============================] - 3s - loss: 0.0313 - acc: 0.9896 - val_loss: 0.0306 - val_acc: 0.9910\n",
      "Epoch 3/10\n",
      "60000/60000 [==============================] - 3s - loss: 0.0316 - acc: 0.9894 - val_loss: 0.0315 - val_acc: 0.9906\n",
      "Epoch 4/10\n",
      "60000/60000 [==============================] - 3s - loss: 0.0314 - acc: 0.9900 - val_loss: 0.0267 - val_acc: 0.9922\n",
      "Epoch 5/10\n",
      "60000/60000 [==============================] - 3s - loss: 0.0281 - acc: 0.9906 - val_loss: 0.0280 - val_acc: 0.9920\n",
      "Epoch 6/10\n",
      "60000/60000 [==============================] - 3s - loss: 0.0281 - acc: 0.9910 - val_loss: 0.0249 - val_acc: 0.9920\n",
      "Epoch 7/10\n",
      "60000/60000 [==============================] - 3s - loss: 0.0273 - acc: 0.9908 - val_loss: 0.0276 - val_acc: 0.9914\n",
      "Epoch 8/10\n",
      "60000/60000 [==============================] - 3s - loss: 0.0258 - acc: 0.9914 - val_loss: 0.0247 - val_acc: 0.9932\n",
      "Epoch 9/10\n",
      "60000/60000 [==============================] - 3s - loss: 0.0254 - acc: 0.9917 - val_loss: 0.0299 - val_acc: 0.9914\n",
      "Epoch 10/10\n",
      "60000/60000 [==============================] - 3s - loss: 0.0240 - acc: 0.9919 - val_loss: 0.0300 - val_acc: 0.9917\n"
     ]
    }
   ],
   "source": [
    "save_model(model, './logs/model_mlp')\n",
    "checkpoint = ModelCheckpoint(filepath='./logs/weights.epoch.{epoch:02d}-val_loss.{val_loss:.2f}.hdf5', verbose=0)\n",
    "history = model.fit(x_train, y_train, batch_size=batch_size, \n",
    "                 epochs=num_epochs, verbose=1, \n",
    "                 callbacks=[checkpoint,TensorBoard(log_dir='./logs/09_tensorboard', histogram_freq=0)],\n",
    "                 validation_data=(x_test, y_test))"
   ]
  },
  {
   "cell_type": "code",
   "execution_count": 50,
   "metadata": {
    "collapsed": false
   },
   "outputs": [
    {
     "name": "stdout",
     "output_type": "stream",
     "text": [
      "_________________________________________________________________\n",
      "Layer (type)                 Output Shape              Param #   \n",
      "=================================================================\n",
      "conv2d_5 (Conv2D)            (None, 26, 26, 32)        320       \n",
      "_________________________________________________________________\n",
      "activation_9 (Activation)    (None, 26, 26, 32)        0         \n",
      "_________________________________________________________________\n",
      "conv2d_6 (Conv2D)            (None, 24, 24, 32)        9248      \n",
      "_________________________________________________________________\n",
      "activation_10 (Activation)   (None, 24, 24, 32)        0         \n",
      "_________________________________________________________________\n",
      "max_pooling2d_3 (MaxPooling2 (None, 12, 12, 32)        0         \n",
      "_________________________________________________________________\n",
      "dropout_5 (Dropout)          (None, 12, 12, 32)        0         \n",
      "_________________________________________________________________\n",
      "flatten_3 (Flatten)          (None, 4608)              0         \n",
      "_________________________________________________________________\n",
      "dense_5 (Dense)              (None, 128)               589952    \n",
      "_________________________________________________________________\n",
      "activation_11 (Activation)   (None, 128)               0         \n",
      "_________________________________________________________________\n",
      "dropout_6 (Dropout)          (None, 128)               0         \n",
      "_________________________________________________________________\n",
      "dense_6 (Dense)              (None, 10)                1290      \n",
      "_________________________________________________________________\n",
      "activation_12 (Activation)   (None, 10)                0         \n",
      "=================================================================\n",
      "Total params: 600,810\n",
      "Trainable params: 600,810\n",
      "Non-trainable params: 0\n",
      "_________________________________________________________________\n"
     ]
    }
   ],
   "source": [
    "# Restore trained model\n",
    "loaded_model = load_model('./logs/model_mlp')\n",
    "loaded_model.load_weights('./logs/weights.epoch.09-val_loss.0.03.hdf5')\n",
    "loaded_model.summary()"
   ]
  },
  {
   "cell_type": "code",
   "execution_count": 51,
   "metadata": {
    "collapsed": false
   },
   "outputs": [
    {
     "data": {
      "text/plain": [
       "<matplotlib.legend.Legend at 0x1784d82ab00>"
      ]
     },
     "execution_count": 51,
     "metadata": {},
     "output_type": "execute_result"
    },
    {
     "data": {
      "image/png": "[encoded data removed]",
      "text/plain": [
       "<matplotlib.figure.Figure at 0x1784d6eb518>"
      ]
     },
     "metadata": {},
     "output_type": "display_data"
    },
    {
     "data": {
      "image/png": "[encoded data removed]",
      "text/plain": [
       "<matplotlib.figure.Figure at 0x1784d8e00b8>"
      ]
     },
     "metadata": {},
     "output_type": "display_data"
    }
   ],
   "source": [
    "#Using matplotlib instead of TB for loss and accuracy plotting\n",
    "plt.figure()\n",
    "plt.xlabel('Epochs')\n",
    "plt.ylabel('Loss')\n",
    "plt.plot(history.history['loss'])\n",
    "plt.plot(history.history['val_loss'])\n",
    "plt.legend(['Training', 'Validation'])\n",
    "\n",
    "plt.figure()\n",
    "plt.xlabel('Epochs')\n",
    "plt.ylabel('Accuracy')\n",
    "plt.plot(history.history['acc'])\n",
    "plt.plot(history.history['val_acc'])\n",
    "plt.legend(['Training', 'Validation'], loc='lower right')"
   ]
  },
  {
   "cell_type": "code",
   "execution_count": 52,
   "metadata": {
    "collapsed": false
   },
   "outputs": [
    {
     "name": "stdout",
     "output_type": "stream",
     "text": [
      "Test Loss: 0.0300406433482\n",
      "Test Accuracy: 0.9917\n"
     ]
    }
   ],
   "source": [
    "# Evaluate the model    \n",
    "loss, accuracy = model.evaluate(x_test, y_test, verbose=0)\n",
    "print('Test Loss:', loss)\n",
    "print('Test Accuracy:', accuracy)"
   ]
  },
  {
   "cell_type": "code",
   "execution_count": 53,
   "metadata": {
    "collapsed": false
   },
   "outputs": [
    {
     "data": {
      "image/png": "[encoded data removed]",
      "text/plain": [
       "<matplotlib.figure.Figure at 0x1784d6ebe80>"
      ]
     },
     "metadata": {},
     "output_type": "display_data"
    }
   ],
   "source": [
    "slice = 15\n",
    "predicted = model.predict(x_test[:slice]).argmax(-1)\n",
    "\n",
    "plt.figure(figsize=(16,8))\n",
    "for i in range(slice):\n",
    "    plt.subplot(1, slice, i+1)\n",
    "    plt.imshow(x_test_orig[i], interpolation='nearest')\n",
    "    plt.text(0, 0, predicted[i], color='black', \n",
    "             bbox=dict(facecolor='white', alpha=1))\n",
    "    plt.axis('off')"
   ]
  }
 ],
 "metadata": {
  "anaconda-cloud": {},
  "kernelspec": {
   "display_name": "Python [default]",
   "language": "python",
   "name": "python3"
  },
  "language_info": {
   "codemirror_mode": {
    "name": "ipython",
    "version": 3
   },
   "file_extension": ".py",
   "mimetype": "text/x-python",
   "name": "python",
   "nbconvert_exporter": "python",
   "pygments_lexer": "ipython3",
   "version": "3.5.2"
  }
 },
 "nbformat": 4,
 "nbformat_minor": 1
}
