{
 "cells": [
  {
   "cell_type": "markdown",
   "metadata": {
    "collapsed": true
   },
   "source": [
    "Multi-layer neural network\n",
    "---\n",
    "We are going to build a neural network connecting multiple neurons in a structure known as multi-layer perceptron (MLP).\n",
    "\n",
    "In this example, we will use keras with Tensorflow as backend.\n",
    "\n",
    "The figure below shows the difference between a single layer perceptron and an MLP consisting of three layers: input layer, hidden layer, and output layer.\n",
    "\n",
    "<img src=\"imgs/Perceptron and MLP.png\" width=\"45%\">"
   ]
  },
  {
   "cell_type": "code",
   "execution_count": 22,
   "metadata": {
    "collapsed": false
   },
   "outputs": [],
   "source": [
    "# Import the required packages\n",
    "import numpy as np\n",
    "import pandas as pd\n",
    "import scipy,keras\n",
    "import matplotlib.pyplot as plt\n",
    "from keras.datasets import mnist\n",
    "from keras.models import Sequential\n",
    "from keras.layers import Dense, Dropout\n",
    "from keras.optimizers import RMSprop\n",
    "from keras.callbacks import TensorBoard"
   ]
  },
  {
   "cell_type": "code",
   "execution_count": 26,
   "metadata": {
    "collapsed": false
   },
   "outputs": [
    {
     "name": "stdout",
     "output_type": "stream",
     "text": [
      "60000 train samples\n",
      "10000 test samples\n"
     ]
    }
   ],
   "source": [
    "#Neural Network methods\n",
    "batch_size = 128\n",
    "num_classes = 10\n",
    "epochs = 20\n",
    "\n",
    "# the data, shuffled and split between train and test sets\n",
    "(x_train, y_train), (x_test, y_test) = mnist.load_data()\n",
    "\n",
    "x_train = x_train.reshape(60000, 784)\n",
    "x_test = x_test.reshape(10000, 784)\n",
    "x_train = x_train.astype('float32')\n",
    "x_test = x_test.astype('float32')\n",
    "x_train /= 255\n",
    "x_test /= 255\n",
    "print(x_train.shape[0], 'train samples')\n",
    "print(x_test.shape[0], 'test samples')\n",
    "\n",
    "# convert class vectors to binary class matrices\n",
    "y_train = keras.utils.to_categorical(y_train, num_classes)\n",
    "y_test = keras.utils.to_categorical(y_test, num_classes)"
   ]
  },
  {
   "cell_type": "code",
   "execution_count": 15,
   "metadata": {
    "collapsed": true
   },
   "outputs": [],
   "source": [
    "#Define Tensorboard callback in keras to generate a visualization of the model output\n",
    "tensorboard = keras.callbacks.TensorBoard(\n",
    "    log_dir='logs/', \n",
    "    histogram_freq=1\n",
    ")"
   ]
  },
  {
   "cell_type": "code",
   "execution_count": 31,
   "metadata": {
    "collapsed": false
   },
   "outputs": [
    {
     "name": "stdout",
     "output_type": "stream",
     "text": [
      "_________________________________________________________________\n",
      "Layer (type)                 Output Shape              Param #   \n",
      "=================================================================\n",
      "dense_40 (Dense)             (None, 512)               401920    \n",
      "_________________________________________________________________\n",
      "dropout_27 (Dropout)         (None, 512)               0         \n",
      "_________________________________________________________________\n",
      "dense_41 (Dense)             (None, 512)               262656    \n",
      "_________________________________________________________________\n",
      "dropout_28 (Dropout)         (None, 512)               0         \n",
      "_________________________________________________________________\n",
      "dense_42 (Dense)             (None, 10)                5130      \n",
      "=================================================================\n",
      "Total params: 669,706\n",
      "Trainable params: 669,706\n",
      "Non-trainable params: 0\n",
      "_________________________________________________________________\n",
      "Train on 60000 samples, validate on 10000 samples\n",
      "Epoch 1/20\n",
      "60000/60000 [==============================] - 2s - loss: 0.2459 - acc: 0.9250 - val_loss: 0.1070 - val_acc: 0.9663\n",
      "Epoch 2/20\n",
      "60000/60000 [==============================] - 2s - loss: 0.1032 - acc: 0.9679 - val_loss: 0.0839 - val_acc: 0.9726\n",
      "Epoch 3/20\n",
      "60000/60000 [==============================] - 2s - loss: 0.0757 - acc: 0.9771 - val_loss: 0.0822 - val_acc: 0.9760\n",
      "Epoch 4/20\n",
      "60000/60000 [==============================] - 2s - loss: 0.0611 - acc: 0.9818 - val_loss: 0.0782 - val_acc: 0.9797\n",
      "Epoch 5/20\n",
      "60000/60000 [==============================] - 2s - loss: 0.0512 - acc: 0.9848 - val_loss: 0.0844 - val_acc: 0.9775\n",
      "Epoch 6/20\n",
      "60000/60000 [==============================] - 2s - loss: 0.0441 - acc: 0.9866 - val_loss: 0.0737 - val_acc: 0.9821\n",
      "Epoch 7/20\n",
      "60000/60000 [==============================] - 1s - loss: 0.0377 - acc: 0.9885 - val_loss: 0.1035 - val_acc: 0.9752\n",
      "Epoch 8/20\n",
      "60000/60000 [==============================] - 2s - loss: 0.0346 - acc: 0.9899 - val_loss: 0.0818 - val_acc: 0.9834\n",
      "Epoch 9/20\n",
      "60000/60000 [==============================] - 2s - loss: 0.0318 - acc: 0.9904 - val_loss: 0.0890 - val_acc: 0.9801\n",
      "Epoch 10/20\n",
      "60000/60000 [==============================] - 2s - loss: 0.0287 - acc: 0.9918 - val_loss: 0.0856 - val_acc: 0.9826\n",
      "Epoch 11/20\n",
      "60000/60000 [==============================] - 2s - loss: 0.0263 - acc: 0.9927 - val_loss: 0.0932 - val_acc: 0.9824\n",
      "Epoch 12/20\n",
      "60000/60000 [==============================] - 1s - loss: 0.0255 - acc: 0.9928 - val_loss: 0.0826 - val_acc: 0.9846\n",
      "Epoch 13/20\n",
      "60000/60000 [==============================] - 2s - loss: 0.0226 - acc: 0.9938 - val_loss: 0.0858 - val_acc: 0.9841\n",
      "Epoch 14/20\n",
      "60000/60000 [==============================] - 1s - loss: 0.0217 - acc: 0.9938 - val_loss: 0.0987 - val_acc: 0.9829\n",
      "Epoch 15/20\n",
      "60000/60000 [==============================] - 1s - loss: 0.0218 - acc: 0.9941 - val_loss: 0.0991 - val_acc: 0.9835\n",
      "Epoch 16/20\n",
      "60000/60000 [==============================] - 2s - loss: 0.0218 - acc: 0.9942 - val_loss: 0.1037 - val_acc: 0.9834\n",
      "Epoch 17/20\n",
      "60000/60000 [==============================] - 1s - loss: 0.0183 - acc: 0.9950 - val_loss: 0.1094 - val_acc: 0.9827\n",
      "Epoch 18/20\n",
      "60000/60000 [==============================] - 1s - loss: 0.0189 - acc: 0.9949 - val_loss: 0.0988 - val_acc: 0.9828\n",
      "Epoch 19/20\n",
      "60000/60000 [==============================] - 2s - loss: 0.0190 - acc: 0.9948 - val_loss: 0.1031 - val_acc: 0.9832\n",
      "Epoch 20/20\n",
      "60000/60000 [==============================] - 2s - loss: 0.0156 - acc: 0.9960 - val_loss: 0.1134 - val_acc: 0.9827\n",
      "Test loss: 0.113432027261\n",
      "Test accuracy: 0.9827\n"
     ]
    }
   ],
   "source": [
    "#Neural Network methods\n",
    "\n",
    "\n",
    "model = Sequential()\n",
    "model.add(Dense(512, activation='relu', input_shape=(784,)))\n",
    "model.add(Dropout(0.2))\n",
    "model.add(Dense(512, activation='relu'))\n",
    "model.add(Dropout(0.2))\n",
    "model.add(Dense(10, activation='softmax'))\n",
    "\n",
    "model.summary()\n",
    "\n",
    "tbCallBack = keras.callbacks.TensorBoard(log_dir='Graph', histogram_freq=0,  \n",
    "          write_graph=True, write_images=True)\n",
    "tbCallBack.set_model(model)\n",
    "model.compile(loss='categorical_crossentropy',\n",
    "              optimizer=RMSprop(),\n",
    "              metrics=['accuracy'])\n",
    "\n",
    "history = model.fit(x_train, y_train,\n",
    "                    batch_size=batch_size,\n",
    "                    epochs=epochs,\n",
    "                    verbose=1,\n",
    "                    validation_data=(x_test, y_test))\n",
    "score = model.evaluate(x_test, y_test, verbose=0)\n",
    "print('Test loss:', score[0])\n",
    "print('Test accuracy:', score[1])"
   ]
  },
  {
   "cell_type": "markdown",
   "metadata": {},
   "source": [
    "Run in cmd prompt -> tensorboard --logdir=Graph/\n",
    "\n",
    "Open URL in browser -> http://localhost:6006  "
   ]
  }
 ],
 "metadata": {
  "anaconda-cloud": {},
  "kernelspec": {
   "display_name": "Python [default]",
   "language": "python",
   "name": "python3"
  },
  "language_info": {
   "codemirror_mode": {
    "name": "ipython",
    "version": 3
   },
   "file_extension": ".py",
   "mimetype": "text/x-python",
   "name": "python",
   "nbconvert_exporter": "python",
   "pygments_lexer": "ipython3",
   "version": "3.5.2"
  }
 },
 "nbformat": 4,
 "nbformat_minor": 1
}
